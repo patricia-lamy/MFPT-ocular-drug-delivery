{
 "cells": [
  {
   "cell_type": "code",
   "execution_count": null,
   "metadata": {},
   "outputs": [],
   "source": [
    "# Set up\n",
    "\n",
    "import numpy as np\n",
    "import matplotlib.pyplot as plt\n",
    "import pandas as pd\n",
    "import seaborn as sns\n",
    "from sklearn.linear_model import LinearRegression"
   ]
  },
  {
   "cell_type": "code",
   "execution_count": null,
   "metadata": {},
   "outputs": [],
   "source": [
    "# Set of human eyes\n",
    "df_results_fab = pd.read_csv('Axial_length_mfpt_prob_exit/2023-11-06_solved_fab_prob_exit_retina_human_eyes_set.csv')\n",
    "df_results_igg = pd.read_csv('Axial_length_mfpt_prob_exit/2023-11-13_solved_igg_prob_exit_retina_human_eyes_set.csv')\n",
    "df_data = pd.read_csv('Axial_length_mfpt_prob_exit/2023-11-04_human_eyes_set_measures.csv')\n",
    "df_results_fab['Source'] = df_data['Source']\n",
    "df_results_igg['Source'] = df_data['Source']\n",
    "df_results_fab['Format'] = 'Fab'\n",
    "df_results_igg['Format'] = 'IgG'\n",
    "#print(df_results.head())\n",
    "\n",
    "markers = {\"Fab\": \"o\", \"IgG\": \"s\"}\n",
    "\n",
    "df = pd.concat([df_results_fab, df_results_igg])"
   ]
  },
  {
   "cell_type": "markdown",
   "metadata": {},
   "source": [
    "# MFPT plotted against AL"
   ]
  },
  {
   "cell_type": "code",
   "execution_count": null,
   "metadata": {},
   "outputs": [],
   "source": [
    "# Calculation of the slope of the regression line of Fab\n",
    "p = sns.regplot(data=df_results_fab, x='AL', y='#Prop P1', fit_reg=True, truncate=False, color='k')\n",
    "x = np.array(p.get_lines()[0].get_xdata()).reshape(-1, 1)\n",
    "y = np.array(p.get_lines()[0].get_ydata()).reshape(-1, 1)\n",
    "\n",
    "# Forcing the regression line to go through the origin:\n",
    "model = LinearRegression(fit_intercept=True)\n",
    "model.fit(x,y)\n",
    "slope_Fab = model.coef_[0][0]\n",
    "print('Slope for Fab:', slope_Fab, ', Intercept for Fab:', model.intercept_[0])"
   ]
  },
  {
   "cell_type": "code",
   "execution_count": null,
   "metadata": {},
   "outputs": [],
   "source": [
    "# Calculation of the slope of the regression line of IgG\n",
    "p = sns.regplot(data=df_results_igg, x='AL', y='#Prop P1', fit_reg=True, truncate=False, color='k')\n",
    "x = np.array(p.get_lines()[0].get_xdata()).reshape(-1, 1)\n",
    "y = np.array(p.get_lines()[0].get_ydata()).reshape(-1, 1)\n",
    "\n",
    "# Forcing the regression line to go through the origin:\n",
    "model = LinearRegression(fit_intercept=True)\n",
    "model.fit(x,y)\n",
    "slope_igg = model.coef_[0][0]\n",
    "print('Slope for IgG:', slope_igg, ', Intercept for IgG:', model.intercept_[0])"
   ]
  },
  {
   "cell_type": "code",
   "execution_count": null,
   "metadata": {},
   "outputs": [],
   "source": [
    "markers = {\"Fab\": \"^\", \"IgG\": \"s\"}\n",
    "\n",
    "sns.set_theme(style=\"ticks\", font_scale=1.4)\n",
    "g = sns.scatterplot(data=df, x='AL', y='#Prop P1', s=40, style='Format', markers=markers, edgecolor='black', fc='none')\n",
    "g1 = sns.regplot(data=df_results_fab, x='AL', y='#Prop P1', ci=None, label='Fab', scatter=False, line_kws=dict(color=\"k\", alpha=1, lw=1), truncate=False)\n",
    "g2 = sns.regplot(data=df_results_igg, x='AL', y='#Prop P1', ci=None, label='Fab', scatter=False, line_kws=dict(color=\"k\", alpha=1, lw=1), truncate=False)\n",
    "#plt.title('Proportion of drug exiting through the vitreous-retina interface')\n",
    "plt.xlabel('AL (cm)')\n",
    "plt.ylabel('Proportion of posterior elimination')\n",
    "plt.ylim(bottom=0.25, top=0.56)\n",
    "\n",
    "plt.text(2.35,0.45, r'$\\pi = 0.198 \\times AL -0.165$', fontsize=13)\n",
    "plt.text(2.8,0.34, r'$\\pi = 0.201 \\times AL -0.145$', fontsize=13)\n",
    "\n",
    "g.figure.set_size_inches(8, 6)"
   ]
  },
  {
   "cell_type": "markdown",
   "metadata": {},
   "source": [
    "# MFPT plotted against vitreous volume"
   ]
  },
  {
   "cell_type": "code",
   "execution_count": null,
   "metadata": {},
   "outputs": [],
   "source": [
    "# Calculation of the slope of the regression line of Fab\n",
    "p = sns.regplot(data=df_results_fab, x='volume', y='#Prop P1', fit_reg=True, truncate=False, color='k')\n",
    "x = np.array(p.get_lines()[0].get_xdata()).reshape(-1, 1)\n",
    "y = np.array(p.get_lines()[0].get_ydata()).reshape(-1, 1)\n",
    "\n",
    "# Forcing the regression line to go through the origin:\n",
    "model = LinearRegression(fit_intercept=True)\n",
    "model.fit(x,y)\n",
    "slope_Fab = model.coef_[0][0]\n",
    "print('Slope for Fab:', slope_Fab, ', Intercept for Fab:', model.intercept_[0])"
   ]
  },
  {
   "cell_type": "code",
   "execution_count": null,
   "metadata": {},
   "outputs": [],
   "source": [
    "# Calculation of the slope of the regression line of IgG\n",
    "p = sns.regplot(data=df_results_igg, x='volume', y='#Prop P1', fit_reg=True, truncate=False, color='k')\n",
    "x = np.array(p.get_lines()[0].get_xdata()).reshape(-1, 1)\n",
    "y = np.array(p.get_lines()[0].get_ydata()).reshape(-1, 1)\n",
    "\n",
    "# Forcing the regression line to go through the origin:\n",
    "model = LinearRegression(fit_intercept=True)\n",
    "model.fit(x,y)\n",
    "slope_igg = model.coef_[0][0]\n",
    "print('Slope for IgG:', slope_igg, ', Intercept for IgG:', model.intercept_[0])"
   ]
  },
  {
   "cell_type": "code",
   "execution_count": null,
   "metadata": {},
   "outputs": [],
   "source": [
    "markers = {\"Fab\": \"^\", \"IgG\": \"s\"}\n",
    "\n",
    "sns.set_theme(style=\"ticks\", font_scale=1.4)\n",
    "g = sns.scatterplot(data=df, x='volume', y='#Prop P1', s=40, style='Format', markers=markers, edgecolor='black', fc='none')\n",
    "#plt.title('Proportion of drug exiting through the vitreous-retina interface')\n",
    "plt.xlabel('Vitreous volume (ml)')\n",
    "plt.ylabel('Proportion of drug (without units)')\n",
    "plt.ylim(bottom=0.25, top=0.56)\n",
    "g.figure.set_size_inches(8, 6)"
   ]
  },
  {
   "cell_type": "code",
   "execution_count": null,
   "metadata": {},
   "outputs": [],
   "source": [
    "# Same plot with regression line and equations\n",
    "markers = {\"Fab\": \"^\", \"IgG\": \"s\"}\n",
    "\n",
    "sns.set_theme(style=\"ticks\", font_scale=1.4)\n",
    "g = sns.scatterplot(data=df, x='volume', y='#Prop P1', s=40, style='Format', markers=markers, edgecolor='black', fc='none')\n",
    "g1 = sns.regplot(data=df_results_fab, x='volume', y='#Prop P1', ci=None, label='Fab', scatter=False, line_kws=dict(color=\"k\", alpha=1, lw=1), truncate=False)\n",
    "g2 = sns.regplot(data=df_results_igg, x='volume', y='#Prop P1', ci=None, label='Fab', scatter=False, line_kws=dict(color=\"k\", alpha=1, lw=1), truncate=False)\n",
    "#plt.title('Proportion of drug exiting through the vitreous-retina interface')\n",
    "plt.xlabel('Vitreous volume (ml)')\n",
    "plt.ylabel('Proportion of drug (without units)')\n",
    "plt.ylim(bottom=0.25, top=0.56)\n",
    "plt.text(8,0.32, r'$\\pi = 0.027 \\times V_{vit} +0.18$', fontsize=13)\n",
    "plt.text(4,0.45, r'$\\pi = 0.027 \\times V_{vit} +0.20$', fontsize=13)\n",
    "g.figure.set_size_inches(8, 6)"
   ]
  }
 ],
 "metadata": {
  "kernelspec": {
   "display_name": "Python 3",
   "language": "python",
   "name": "python3"
  },
  "language_info": {
   "codemirror_mode": {
    "name": "ipython",
    "version": 3
   },
   "file_extension": ".py",
   "mimetype": "text/x-python",
   "name": "python",
   "nbconvert_exporter": "python",
   "pygments_lexer": "ipython3",
   "version": "3.10.12"
  },
  "orig_nbformat": 4
 },
 "nbformat": 4,
 "nbformat_minor": 2
}
