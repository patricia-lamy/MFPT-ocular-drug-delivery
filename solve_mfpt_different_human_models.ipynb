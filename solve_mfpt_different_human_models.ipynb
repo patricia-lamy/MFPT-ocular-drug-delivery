{
 "cells": [
  {
   "cell_type": "markdown",
   "metadata": {},
   "source": [
    "# Set up"
   ]
  },
  {
   "cell_type": "code",
   "execution_count": null,
   "id": "aba354b4",
   "metadata": {},
   "outputs": [],
   "source": [
    "import numpy as np\n",
    "import pandas as pd\n",
    "import seaborn as sns\n",
    "import matplotlib.pyplot as plt\n",
    "from sklearn.linear_model import LinearRegression\n",
    "\n",
    "# Setting the color palette\n",
    "sns.color_palette('colorblind', n_colors=5)[1]\n",
    "palette = {\"Azhdam et al. (2020)\":sns.color_palette('colorblind', n_colors=5)[0],\n",
    "           \"de Santana et al. (2021)\":sns.color_palette('colorblind', n_colors=5)[1], \n",
    "           \"Zhou et al. (2020) (pathological myopia)\":sns.color_palette('colorblind', n_colors=5)[2],\n",
    "           \"Atchison et al. (2004)\": sns.color_palette('colorblind', n_colors=5)[4]}"
   ]
  },
  {
   "cell_type": "code",
   "execution_count": null,
   "id": "3398e407",
   "metadata": {},
   "outputs": [],
   "source": [
    "df_data = pd.read_csv('Data/human_eyes_set_measures.csv')\n",
    "\n",
    "df_results_fab = pd.read_csv('Data/2023-11-04_solved_fab_mfpt_human_eyes_set.csv')\n",
    "df_results_fab['Source'] = df_data['Source']\n",
    "\n",
    "df_results_igg = pd.read_csv('Data/2023-11-04_solved_igg_mfpt_human_eyes_set.csv')\n",
    "df_results_igg['Source'] = df_data['Source']\n",
    "\n",
    "df_fab = pd.DataFrame(data=df_results_fab)\n",
    "df_fab['Format'] = 'Fab'\n",
    "df_igg = pd.DataFrame(data=df_results_igg)\n",
    "df_igg['Format'] = 'IgG'\n",
    "\n",
    "df = pd.concat([df_fab, df_igg])"
   ]
  },
  {
   "cell_type": "markdown",
   "id": "3e84b906",
   "metadata": {},
   "source": [
    "# Figure of MFPT as a function of AL in ensemble of human eye models"
   ]
  },
  {
   "cell_type": "code",
   "execution_count": null,
   "metadata": {},
   "outputs": [],
   "source": [
    "# Calculation of the slope of the regression line of Fab\n",
    "p = sns.regplot(data=df_results_fab, x='AL', y='#MFPT P1 (days)', fit_reg=True, truncate=False, color='k')\n",
    "x = np.array(p.get_lines()[0].get_xdata()).reshape(-1, 1)\n",
    "y = np.array(p.get_lines()[0].get_ydata()).reshape(-1, 1)\n",
    "\n",
    "model = LinearRegression(fit_intercept=True)\n",
    "model.fit(x,y)\n",
    "slope_fab = model.coef_[0][0]\n",
    "print('Slope of Fab:', slope_fab, ', Intercept of Fab:', model.intercept_[0])"
   ]
  },
  {
   "cell_type": "code",
   "execution_count": null,
   "metadata": {},
   "outputs": [],
   "source": [
    "# Calculation of the slope of the regression line of IgG\n",
    "p = sns.regplot(data=df_results_igg, x='AL', y='#MFPT P1 (days)', fit_reg=True, truncate=False, color='k')\n",
    "x = np.array(p.get_lines()[0].get_xdata()).reshape(-1, 1)\n",
    "y = np.array(p.get_lines()[0].get_ydata()).reshape(-1, 1)\n",
    "\n",
    "model = LinearRegression(fit_intercept=True)\n",
    "model.fit(x,y)\n",
    "slope_igg = model.coef_[0][0]\n",
    "print('Slope of IgG:', slope_igg, ', Intercept of IgG:', model.intercept_[0])"
   ]
  },
  {
   "cell_type": "code",
   "execution_count": null,
   "id": "ed362cd9",
   "metadata": {},
   "outputs": [],
   "source": [
    "# Combined graph \n",
    "markers = {\"Fab\": \"^\", \"IgG\": \"s\"}\n",
    "\n",
    "sns.set_theme(style=\"ticks\", font_scale=1.4)\n",
    "g = sns.scatterplot(data=df, x='AL', y='#MFPT P1 (days)', s=40, style='Format', alpha=1, markers=markers, edgecolor='black', palette=palette, fc='none')\n",
    "g1 = sns.regplot(data=df_results_igg, x='AL', y='#MFPT P1 (days)', ci=None, scatter=False, line_kws=dict(color=\"k\", alpha=1, lw=1), truncate=False)\n",
    "g2 = sns.regplot(data=df_results_fab, x='AL', y='#MFPT P1 (days)', ci=None, scatter=False, line_kws=dict(color=\"k\", alpha=1, lw=1), truncate=False)\n",
    "#plt.title('MFPT from the midpoint on the optical axis')\n",
    "plt.xlabel('AL (cm)')\n",
    "plt.ylabel('MFPT (d)')\n",
    "plt.xlim(left=2.1, right=3.5)\n",
    "plt.ylim(bottom=5, top=35)\n",
    "\n",
    "plt.text(2.3,22.5, r'$\\tau = 15.1 \\times AL -20.8$', fontsize=13)\n",
    "plt.text(2.8,10, r'$\\tau = 9.48 \\times AL -13.5$', fontsize=13)\n",
    "\n",
    "g.figure.set_size_inches(8, 6)\n"
   ]
  },
  {
   "cell_type": "markdown",
   "metadata": {},
   "source": [
    "# Figure of MFPT as a function of vitreous volume in ensemble of human eye models"
   ]
  },
  {
   "cell_type": "code",
   "execution_count": null,
   "metadata": {},
   "outputs": [],
   "source": [
    "# Calculation of the slope of the regression line of Fab\n",
    "p = sns.regplot(data=df_results_fab, x='volume', y='#MFPT P1 (days)', fit_reg=True, truncate=False, color='k')\n",
    "x = np.array(p.get_lines()[0].get_xdata()).reshape(-1, 1)\n",
    "y = np.array(p.get_lines()[0].get_ydata()).reshape(-1, 1)\n",
    "\n",
    "model = LinearRegression(fit_intercept=True)\n",
    "model.fit(x,y)\n",
    "print(model.coef_, model.intercept_)\n",
    "slope_fab = model.coef_[0][0]\n",
    "slope_fab = model.coef_[0][0]\n",
    "print('Slope of Fab:', slope_fab, ', Intercept of Fab:', model.intercept_[0])"
   ]
  },
  {
   "cell_type": "code",
   "execution_count": null,
   "metadata": {},
   "outputs": [],
   "source": [
    "# Calculation of the slope of the regression line of IgG\n",
    "p = sns.regplot(data=df_results_igg, x='volume', y='#MFPT P1 (days)', fit_reg=True, truncate=False, color='k')\n",
    "x = np.array(p.get_lines()[0].get_xdata()).reshape(-1, 1)\n",
    "y = np.array(p.get_lines()[0].get_ydata()).reshape(-1, 1)\n",
    "\n",
    "model = LinearRegression(fit_intercept=True)\n",
    "model.fit(x,y)\n",
    "slope_igg = model.coef_[0][0]\n",
    "print('Slope of IgG:', slope_igg, ', Intercept of IgG:', model.intercept_[0])"
   ]
  },
  {
   "cell_type": "code",
   "execution_count": null,
   "id": "9e6151b2",
   "metadata": {},
   "outputs": [],
   "source": [
    "# Combined graph \n",
    "markers = {\"Fab\": \"^\", \"IgG\": \"s\"}\n",
    "\n",
    "sns.set_theme(style=\"ticks\", font_scale=1.4)\n",
    "g = sns.scatterplot(data=df, x='volume', y='#MFPT P1 (days)', s=40, style='Format', alpha=1, markers=markers, edgecolor='black', palette=palette, fc='none')\n",
    "g1 = sns.regplot(data=df_results_igg, x='volume', y='#MFPT P1 (days)', ci=None, scatter=False, line_kws=dict(color=\"k\", alpha=1, lw=1), truncate=False)\n",
    "g2 = sns.regplot(data=df_results_fab, x='volume', y='#MFPT P1 (days)', ci=None, scatter=False, line_kws=dict(color=\"k\", alpha=1, lw=1), truncate=False)\n",
    "#plt.title('MFPT from the midpoint on the optical axis')\n",
    "plt.xlabel('Vitreous volume (ml)')\n",
    "plt.ylabel('MFPT (d)')\n",
    "#plt.xlim(left=2.1, right=3.25)\n",
    "plt.ylim(bottom=5, top=35)\n",
    "\n",
    "plt.text(4,23, r'$\\tau = 2.19 \\times V_{vit} +4.57$', fontsize=13)\n",
    "plt.text(9,10, r'$\\tau = 1.37 \\times V_{vit} +2.46$', fontsize=13)\n",
    "\n",
    "g.figure.set_size_inches(8, 6)"
   ]
  },
  {
   "cell_type": "markdown",
   "metadata": {},
   "source": [
    "# Check that pathological myopia data is not producing a bias"
   ]
  },
  {
   "cell_type": "markdown",
   "metadata": {},
   "source": [
    "## MFPT plotted against AL (without pathological myopia)"
   ]
  },
  {
   "cell_type": "code",
   "execution_count": null,
   "metadata": {},
   "outputs": [],
   "source": [
    "# Calculation of the slope of the regression line of Fab, with dataset excluding pathological myopia\n",
    "p = sns.regplot(data=df_results_fab[df_results_fab['Source']!='Zhou et al. (2020) (pathological myopia)'], x='AL', y='#MFPT P1 (days)', fit_reg=True, truncate=False, color='k')\n",
    "x = np.array(p.get_lines()[0].get_xdata()).reshape(-1, 1)\n",
    "y = np.array(p.get_lines()[0].get_ydata()).reshape(-1, 1)\n",
    "\n",
    "model = LinearRegression(fit_intercept=True)\n",
    "model.fit(x,y)\n",
    "slope_fab = model.coef_[0][0]\n",
    "print('Slope of Fab:', slope_fab, ', Intercept of Fab:', model.intercept_[0])\n",
    "slope_fab_with_pathological_myopia = 9.479571886364324\n",
    "print('Slope of Fab, dataset with pathological myopia:', slope_fab_with_pathological_myopia)"
   ]
  },
  {
   "cell_type": "code",
   "execution_count": null,
   "metadata": {},
   "outputs": [],
   "source": [
    "# Calculation of the slope of the regression line of IgG\n",
    "p = sns.regplot(data=df_results_igg[df_results_igg['Source']!='Zhou et al. (2020) (pathological myopia)'], x='AL', y='#MFPT P1 (days)', fit_reg=True, truncate=False, color='k')\n",
    "x = np.array(p.get_lines()[0].get_xdata()).reshape(-1, 1)\n",
    "y = np.array(p.get_lines()[0].get_ydata()).reshape(-1, 1)\n",
    "\n",
    "model = LinearRegression(fit_intercept=True)\n",
    "model.fit(x,y)\n",
    "slope_igg = model.coef_[0][0]\n",
    "print('Slope of IgG:', slope_igg, ', Intercept of IgG:', model.intercept_[0])\n",
    "slope_igg_with_pathological_myopia = 15.122447546982281\n",
    "print('Slope of Fab, dataset with pathological myopia:', slope_igg_with_pathological_myopia)"
   ]
  },
  {
   "cell_type": "code",
   "execution_count": null,
   "metadata": {},
   "outputs": [],
   "source": [
    "# Combined graph \n",
    "markers = {\"Fab\": \"^\", \"IgG\": \"s\"}\n",
    "\n",
    "sns.set_theme(style=\"ticks\", font_scale=1.4)\n",
    "plt.xlim(left=2.1, right=2.7)\n",
    "plt.ylim(bottom=6, top=20)\n",
    "g = sns.scatterplot(data=df[df['Source']!='Zhou et al. (2020) (pathological myopia)'], x='AL', y='#MFPT P1 (days)', s=40, style='Format', alpha=1, markers=markers, edgecolor='black', palette=palette, fc='none')\n",
    "g1 = sns.regplot(data=df_results_igg[df_results_igg['Source']!='Zhou et al. (2020) (pathological myopia)'], x='AL', y='#MFPT P1 (days)', ci=None, scatter=False, line_kws=dict(color=\"k\", alpha=1, lw=1), truncate=False)\n",
    "g2 = sns.regplot(data=df_results_fab[df_results_fab['Source']!='Zhou et al. (2020) (pathological myopia)'], x='AL', y='#MFPT P1 (days)', ci=None, scatter=False, line_kws=dict(color=\"k\", alpha=1, lw=1), truncate=False)\n",
    "#plt.title('MFPT from the midpoint on the optical axis')\n",
    "plt.xlabel('AL (cm)')\n",
    "plt.ylabel('MFPT (d)')\n",
    "\n",
    "plt.text(2.2,16, r'$\\tau = 14.2 \\times AL -18.6$', fontsize=13)\n",
    "plt.text(2.5,8, r'$\\tau = 8.79 \\times AL -11.9$', fontsize=13)\n",
    "\n",
    "g.figure.set_size_inches(8, 6)"
   ]
  },
  {
   "cell_type": "markdown",
   "metadata": {},
   "source": [
    "## MFPT plotted against vitreous volume (without pathological myopia)"
   ]
  },
  {
   "cell_type": "code",
   "execution_count": null,
   "metadata": {},
   "outputs": [],
   "source": [
    "# Calculation of the slope of the regression line of Fab, with dataset excluding pathological myopia\n",
    "p = sns.regplot(data=df_results_fab[df_results_fab['Source']!='Zhou et al. (2020) (pathological myopia)'], x='volume', y='#MFPT P1 (days)', fit_reg=True, truncate=False, color='k')\n",
    "x = np.array(p.get_lines()[0].get_xdata()).reshape(-1, 1)\n",
    "y = np.array(p.get_lines()[0].get_ydata()).reshape(-1, 1)\n",
    "\n",
    "model = LinearRegression(fit_intercept=True)\n",
    "model.fit(x,y)\n",
    "slope_fab = model.coef_[0][0]\n",
    "print('Slope of Fab:', slope_fab, ', Intercept of Fab:', model.intercept_[0])\n",
    "slope_fab_with_pathological_myopia = 1.3713758912624747\n",
    "print('Slope of Fab, dataset with pathological myopia:', slope_fab_with_pathological_myopia)"
   ]
  },
  {
   "cell_type": "code",
   "execution_count": null,
   "metadata": {},
   "outputs": [],
   "source": [
    "# Calculation of the slope of the regression line of IgG\n",
    "p = sns.regplot(data=df_results_igg[df_results_igg['Source']!='Zhou et al. (2020) (pathological myopia)'], x='volume', y='#MFPT P1 (days)', fit_reg=True, truncate=False, color='k')\n",
    "x = np.array(p.get_lines()[0].get_xdata()).reshape(-1, 1)\n",
    "y = np.array(p.get_lines()[0].get_ydata()).reshape(-1, 1)\n",
    "\n",
    "model = LinearRegression(fit_intercept=True)\n",
    "model.fit(x,y)\n",
    "slope_igg = model.coef_[0][0]\n",
    "print('Slope of IgG:', slope_igg, ', Intercept of IgG:', model.intercept_[0])\n",
    "slope_igg_with_pathological_myopia = 2.19192616555951\n",
    "print('Slope of IgG, dataset with pathological myopia:', slope_igg_with_pathological_myopia)"
   ]
  },
  {
   "cell_type": "code",
   "execution_count": null,
   "metadata": {},
   "outputs": [],
   "source": [
    "# Combined graph \n",
    "markers = {\"Fab\": \"^\", \"IgG\": \"s\"}\n",
    "\n",
    "sns.set_theme(style=\"ticks\", font_scale=1.4)\n",
    "#plt.xlim(left=2.1, right=2.7)\n",
    "plt.ylim(bottom=6, top=20)\n",
    "g = sns.scatterplot(data=df[df['Source']!='Zhou et al. (2020) (pathological myopia)'], x='volume', y='#MFPT P1 (days)', s=40, style='Format', alpha=1, markers=markers, edgecolor='black', palette=palette, fc='none', legend=None)\n",
    "g1 = sns.regplot(data=df_results_igg[df_results_igg['Source']!='Zhou et al. (2020) (pathological myopia)'], x='volume', y='#MFPT P1 (days)', ci=None, scatter=False, line_kws=dict(color=\"k\", alpha=1, lw=1), truncate=False)\n",
    "g2 = sns.regplot(data=df_results_fab[df_results_fab['Source']!='Zhou et al. (2020) (pathological myopia)'], x='volume', y='#MFPT P1 (days)', ci=None, scatter=False, line_kws=dict(color=\"k\", alpha=1, lw=1), truncate=False)\n",
    "#plt.title('MFPT from the midpoint on the optical axis')\n",
    "plt.xlabel('Vitreous volume (ml)')\n",
    "plt.ylabel('MFPT (d)')\n",
    "\n",
    "plt.text(3.8,18, r'$\\tau = 2.22 \\times V_{vit} +4.43$', fontsize=13)\n",
    "plt.text(5,7, r'$\\tau = 1.37 \\times V_{vit} +2.46$', fontsize=13)\n",
    "\n",
    "g.figure.set_size_inches(8, 6)"
   ]
  }
 ],
 "metadata": {
  "kernelspec": {
   "display_name": "Python 3 (ipykernel)",
   "language": "python",
   "name": "python3"
  },
  "language_info": {
   "codemirror_mode": {
    "name": "ipython",
    "version": 3
   },
   "file_extension": ".py",
   "mimetype": "text/x-python",
   "name": "python",
   "nbconvert_exporter": "python",
   "pygments_lexer": "ipython3",
   "version": "3.10.12"
  }
 },
 "nbformat": 4,
 "nbformat_minor": 5
}
