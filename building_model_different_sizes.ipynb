{
 "cells": [
  {
   "cell_type": "code",
   "execution_count": null,
   "id": "fbae9a59",
   "metadata": {},
   "outputs": [],
   "source": [
    "import numpy as np\n",
    "import pandas as pd\n",
    "import seaborn as sns\n",
    "import matplotlib.pyplot as plt\n",
    "\n",
    "\n",
    "# Setting the color palette\n",
    "sns.color_palette('colorblind', n_colors=5)[1]\n",
    "\n",
    "palette = {\"Azhdam et al. (2020)\":sns.color_palette('colorblind', n_colors=5)[0],\n",
    "           \"de Santana et al. (2021)\":sns.color_palette('colorblind', n_colors=5)[1], \n",
    "           \"Zhou et al. (2020) (pathological myopia)\":sns.color_palette('colorblind', n_colors=5)[2],\n",
    "           \"Atchison et al. (2004)\": sns.color_palette('colorblind', n_colors=5)[4]}"
   ]
  },
  {
   "cell_type": "markdown",
   "id": "01c1e568",
   "metadata": {},
   "source": [
    "## Importing digitised data"
   ]
  },
  {
   "cell_type": "code",
   "execution_count": null,
   "id": "7b026cd2",
   "metadata": {},
   "outputs": [],
   "source": [
    "data_points_deSantana = pd.read_csv('Data/digitised_data_deSantana2021.csv', names=['Axial length (cm)', 'Vitreous volume (mL)'])\n",
    "data_points_deSantana['Source'] = 'de Santana et al. (2021)'\n",
    "data_points_Zhou_myopic = pd.read_csv('Data/digitised_data_Zhou2020_Fig1.csv', names = ['Axial length (cm)', 'Vitreous volume (mL)'])\n",
    "data_points_Zhou_myopic['Source'] = 'Zhou et al. (2020) (pathological myopia)'\n",
    "data_points_Azhdam = pd.read_csv('Data/digitised_data_Azhdam2020.csv', names = ['Axial length (cm)', 'Vitreous volume (mL)'])\n",
    "data_points_Azhdam['Source'] = 'Azhdam et al. (2020)'\n",
    "\n",
    "df_data_tot = pd.concat([data_points_Azhdam, data_points_deSantana, data_points_Zhou_myopic])\n",
    "\n",
    "sns.set_theme(style=\"ticks\", font_scale=1)\n",
    "g = sns.relplot(data=df_data_tot, x='Axial length (cm)', y='Vitreous volume (mL)', hue='Source', marker=\"o\", alpha=0.6, edgecolor='black', palette=palette)\n",
    "sns.move_legend(g, \"center left\", bbox_to_anchor=(0.556, 0.5))\n",
    "plt.title('Vitreous volume and axial length of human eyes (from digitised data)')\n",
    "\n",
    "g.figure.set_size_inches(10, 4)"
   ]
  },
  {
   "cell_type": "markdown",
   "id": "444897a5",
   "metadata": {},
   "source": [
    "## Building eye dimensions"
   ]
  },
  {
   "cell_type": "code",
   "execution_count": null,
   "metadata": {},
   "outputs": [],
   "source": [
    "# Methods to calculate dimensions\n",
    "\n",
    "def volume_ellipsoid(vol_vit, lens_thick=0.3909, lens_diam=0.939):\n",
    "    vol_lens = (4 * np.pi * (lens_thick/2) * (lens_diam/2)**2)/4\n",
    "    return vol_vit + vol_lens\n",
    "\n",
    "def calculate_b(axial_length, ACD=0.3276, lens_thick=0.3909):\n",
    "    b = (axial_length - (ACD + lens_thick/2))/2\n",
    "    return b\n",
    "\n",
    "def get_a_from_vol_ell(vol_ellipsoid, b):\n",
    "    a_squared = (3*vol_ellipsoid)/(4* np.pi*b)\n",
    "    return np.sqrt(a_squared)\n",
    "\n",
    "def calculate_a_b(axial_length, vol_vit, ACD=0.3276, lens_thick=0.3909, lens_diam=0.939):\n",
    "    vol_ellipsoid = volume_ellipsoid(vol_vit, lens_thick, lens_diam)\n",
    "    b = calculate_b(axial_length, ACD, lens_thick)\n",
    "    a = get_a_from_vol_ell(vol_ellipsoid, b)\n",
    "    return [a,b]"
   ]
  },
  {
   "cell_type": "code",
   "execution_count": null,
   "metadata": {},
   "outputs": [],
   "source": [
    "AL = df_data_tot[\"Axial length (cm)\"].to_numpy()\n",
    "vol_vit = df_data_tot[\"Vitreous volume (mL)\"].to_numpy()\n",
    "a_array = np.zeros(len(AL))\n",
    "b_array = np.zeros(len(AL))\n",
    "\n",
    "for i in range(0, len(AL)):\n",
    "    [a, b] = calculate_a_b(AL[i], vol_vit[i])\n",
    "    a_array[i] = a\n",
    "    b_array[i] = b\n",
    "    \n",
    "df_data_tot[\"Semi-axis a (cm)\"] = a_array\n",
    "df_data_tot[\"Semi-axis b (cm)\"] = b_array\n",
    "\n",
    "#df_data_tot.to_csv(\"2023-10-19_digitised_data_model_measures.csv\")"
   ]
  },
  {
   "cell_type": "code",
   "execution_count": null,
   "metadata": {},
   "outputs": [],
   "source": [
    "## Adding data from Atchison et al. (2004) (average from table)\n",
    "\n",
    "def calculate_a_b_from_measures(axial_length, vit_diam, ACD=0.3276, lens_thick=0.3909):\n",
    "    b = calculate_b(axial_length, ACD, lens_thick)\n",
    "    a = vit_diam/2\n",
    "    return [a,b]\n",
    "\n",
    "def calculate_vol_vit(a, b, ACD=0.3276, lens_thick=0.3909,lens_diam=0.939):\n",
    "    vol_ellipsoid = 4*np.pi*a**2*b/3\n",
    "    vol_lens = (4 * np.pi * (lens_thick/2) * (lens_diam/2)**2)/4\n",
    "    vol_vit = vol_ellipsoid - vol_lens\n",
    "    return vol_vit\n",
    "\n",
    "\n",
    "atchison_measures = [[2.31, 2.26], [2.39, 2.32],\n",
    "                     [2.46, 2.35], [2.47, 2.32],\n",
    "                     [2.47, 2.32], [2.47, 2.32],\n",
    "                     [2.56, 2.37], [2.62, 2.41]]\n",
    "# Obtained taking the mean of the two lengths for the AL, and the mean of the height and the width for the vitreous diameter\n",
    "\n",
    "a_array_Atchison = np.zeros(len(atchison_measures))\n",
    "b_array_Atchison = np.zeros(len(atchison_measures))\n",
    "AL_array_Atchison = np.zeros(len(atchison_measures))\n",
    "vol_vit_array_Atchison = np.zeros(len(atchison_measures))\n",
    "\n",
    "\n",
    "for i in range(0, len(atchison_measures)):\n",
    "    AL = atchison_measures[i][0]\n",
    "    vit_diam = atchison_measures[i][1]\n",
    "    [a,b] = calculate_a_b_from_measures(AL, vit_diam)\n",
    "    vol_vit = calculate_vol_vit(a,b)\n",
    "    a_array_Atchison[i] = a\n",
    "    b_array_Atchison[i] = b\n",
    "    AL_array_Atchison[i] = AL\n",
    "    vol_vit_array_Atchison[i] = vol_vit\n",
    "\n",
    "d_atch = {'Axial length (cm)':AL_array_Atchison,\n",
    "          'Vitreous volume (mL)': vol_vit_array_Atchison,\n",
    "          'Semi-axis a (cm)': a_array_Atchison,\n",
    "          'Semi-axis b (cm)': b_array_Atchison}\n",
    "df_atch = pd.DataFrame(data=d_atch)\n",
    "df_atch[\"Source\"] = \"Atchison et al. (2004)\""
   ]
  },
  {
   "cell_type": "code",
   "execution_count": null,
   "id": "b50a6f99",
   "metadata": {
    "scrolled": false
   },
   "outputs": [],
   "source": [
    "# Plotting the result\n",
    "\n",
    "df_tot = pd.concat([df_data_tot, df_atch])\n",
    "#df_tot.to_csv('Data/human_eyes_set_measures.csv', index=False)\n",
    "\n",
    "sns.set_theme(style=\"ticks\", font_scale=1.2)\n",
    "sns.set_palette(\"colorblind\")\n",
    "g = sns.relplot(data=df_tot, x='Axial length (cm)', y='Vitreous volume (mL)', hue='Source', marker=\"o\", alpha=0.4, edgecolor='black', palette=palette, s=40)\n",
    "point = plt.plot(2.3, 4.5951, 'ko', label='Model eye')\n",
    "hypemetropia = plt.plot([2.005, 2.4], [2.8, 2.8], lw=6, color='tan', linestyle='solid', label='Hypermetropia range', alpha=1, markersize=15)\n",
    "emmetropia = plt.plot([2.15, 2.43], [3.0, 3.0], lw=6, color='lightgrey', linestyle='solid', label='Emmetropia range', alpha=1, markersize=15)\n",
    "myopia = plt.plot([2.38, 2.68], [3.2, 3.2], lw=6, color='dimgrey', linestyle='solid', label='Myopia range', alpha=1, markersize=15)\n",
    "plt.legend(frameon=False)\n",
    "sns.move_legend(g, \"center left\", bbox_to_anchor=(0.556, 0.5))\n",
    "#plt.title('Vitreous volume and axial length of human eyes')\n",
    "plt.xlim(left=2.0)\n",
    "plt.ylim(bottom=2.7)\n",
    "\n",
    "g.figure.set_size_inches(16, 6)\n"
   ]
  }
 ],
 "metadata": {
  "kernelspec": {
   "display_name": "Python 3 (ipykernel)",
   "language": "python",
   "name": "python3"
  },
  "language_info": {
   "codemirror_mode": {
    "name": "ipython",
    "version": 3
   },
   "file_extension": ".py",
   "mimetype": "text/x-python",
   "name": "python",
   "nbconvert_exporter": "python",
   "pygments_lexer": "ipython3",
   "version": "3.10.12"
  }
 },
 "nbformat": 4,
 "nbformat_minor": 5
}
