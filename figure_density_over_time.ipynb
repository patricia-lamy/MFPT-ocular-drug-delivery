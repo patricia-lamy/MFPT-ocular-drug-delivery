{
 "cells": [
  {
   "cell_type": "code",
   "execution_count": null,
   "metadata": {},
   "outputs": [],
   "source": [
    "import numpy as np\n",
    "import matplotlib.pyplot as plt\n",
    "import pandas as pd\n",
    "import seaborn as sns\n",
    "from scipy.optimize import curve_fit"
   ]
  },
  {
   "cell_type": "code",
   "execution_count": null,
   "metadata": {},
   "outputs": [],
   "source": [
    "# Import data \n",
    "\n",
    "sns.set_theme(style=\"ticks\", font_scale=1.5)\n",
    "sns.set_color_codes(palette='colorblind')\n",
    "\n",
    "data_human = pd.read_csv('Data/drug_qty_over_time_P2.csv')"
   ]
  },
  {
   "cell_type": "markdown",
   "metadata": {},
   "source": [
    "## Linear plots"
   ]
  },
  {
   "cell_type": "code",
   "execution_count": null,
   "metadata": {},
   "outputs": [],
   "source": [
    "t = (data_human['Time'].to_numpy())/24\n",
    "density_fab = data_human['Fab'].to_numpy()\n",
    "density_igg = data_human['IgG'].to_numpy()\n",
    "\n",
    "# Define function used for fitting\n",
    "def func(x,a,b):\n",
    "    return a*np.exp(-b*x)\n",
    "\n",
    "[a, b], conf_int = curve_fit(func, t, density_fab)\n",
    "half_life = np.log(2)/b\n",
    "print(a,b)\n",
    "\n",
    "plt.figure(figsize=(7,5))\n",
    "plt.rcParams.update({'font.size': 13})\n",
    "ax = plt.plot(t,density_fab, label = 'Numerical solution', linewidth=3, color='b')\n",
    "ax = plt.plot(t, func(t, *[a, b]), label='Fitted exponential', linewidth=3, color='r')\n",
    "plt.xlim((0,35))\n",
    "plt.ylim((0, 0.55))\n",
    "plt.xlabel('Time (d)')\n",
    "plt.ylabel('Amount in the vitreous (mg)')\n",
    "plt.legend(frameon=False)\n",
    "plt.title('Fab')\n",
    "plt.show()"
   ]
  },
  {
   "cell_type": "code",
   "execution_count": null,
   "metadata": {},
   "outputs": [],
   "source": [
    "[a, b], conf_int = curve_fit(func, t, density_igg)\n",
    "half_life = np.log(2)/b\n",
    "print(a,b)\n",
    "\n",
    "plt.figure(figsize=(7,5))\n",
    "plt.rcParams.update({'font.size': 13})\n",
    "ax = plt.plot(t,density_igg, label = 'Numerical solution', linewidth=3, color='b')\n",
    "ax = plt.plot(t, func(t, *[a, b]), label='Fitted exponential', linewidth=3, color='r')\n",
    "plt.xlim((0,35))\n",
    "plt.ylim((0, 0.55))\n",
    "plt.xlabel('Time (d)')\n",
    "plt.ylabel('Amount in the vitreous (mg)')\n",
    "plt.legend(frameon=False)\n",
    "plt.title('IgG')\n",
    "plt.show()"
   ]
  },
  {
   "cell_type": "markdown",
   "metadata": {},
   "source": [
    "## Log-linear plots"
   ]
  },
  {
   "cell_type": "code",
   "execution_count": null,
   "metadata": {},
   "outputs": [],
   "source": [
    "[a, b], conf_int = curve_fit(func, t, density_fab)\n",
    "half_life = np.log(2)/b\n",
    "print(a,b)\n",
    "\n",
    "plt.figure(figsize=(7,5))\n",
    "plt.rcParams.update({'font.size': 13})\n",
    "ax = plt.plot(t,density_fab, label = 'Numerical solution', linewidth=3, color='b')\n",
    "ax = plt.plot(t, func(t, *[a, b]), label='Fitted exponential', linewidth=3, color='r')\n",
    "plt.xlim((0,35))\n",
    "plt.xlabel('Time (d)')\n",
    "plt.ylabel('Amount in the vitreous (mg)')\n",
    "plt.legend(frameon=False)\n",
    "plt.title('Fab (log scale)')\n",
    "plt.yscale('log')\n",
    "plt.show()"
   ]
  },
  {
   "cell_type": "code",
   "execution_count": null,
   "metadata": {},
   "outputs": [],
   "source": [
    "[a, b], conf_int = curve_fit(func, t, density_igg)\n",
    "half_life = np.log(2)/b\n",
    "print(a,b)\n",
    "\n",
    "plt.figure(figsize=(7,5))\n",
    "plt.rcParams.update({'font.size': 13})\n",
    "ax = plt.plot(t, density_igg, label = 'Numerical solution', linewidth=3, color='b')\n",
    "ax = plt.plot(t, func(t, *[a, b]), label='Fitted exponential', linewidth=3, color='r')\n",
    "plt.xlim((0,35))\n",
    "#plt.ylim((0, 0.55))\n",
    "plt.xlabel('Time (d)')\n",
    "plt.ylabel('Amount in the vitreous (mg)')\n",
    "plt.legend(frameon=False)\n",
    "plt.title('IgG (log scale)')\n",
    "plt.yscale('log')\n",
    "plt.show()"
   ]
  }
 ],
 "metadata": {
  "kernelspec": {
   "display_name": "Python 3",
   "language": "python",
   "name": "python3"
  },
  "language_info": {
   "codemirror_mode": {
    "name": "ipython",
    "version": 3
   },
   "file_extension": ".py",
   "mimetype": "text/x-python",
   "name": "python",
   "nbconvert_exporter": "python",
   "pygments_lexer": "ipython3",
   "version": "3.10.12"
  },
  "orig_nbformat": 4
 },
 "nbformat": 4,
 "nbformat_minor": 2
}
